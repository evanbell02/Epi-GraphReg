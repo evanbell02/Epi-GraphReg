{
 "cells": [
  {
   "cell_type": "code",
   "execution_count": 1,
   "id": "db4590f1-1479-42ab-9274-787f3c1bc6b6",
   "metadata": {},
   "outputs": [],
   "source": [
    "import sys\n",
    "sys.path.append('/egr/research-slim/belleva1/EpiGraphReg/')\n",
    "import torch\n",
    "import torch.nn.functional as F\n",
    "import numpy as np\n",
    "import matplotlib.pyplot as plt\n",
    "import torch_geometric\n",
    "from torch_geometric.data import Data\n",
    "import pytorch_lightning as pl\n",
    "import random"
   ]
  },
  {
   "cell_type": "code",
   "execution_count": 2,
   "id": "ece37377-ee57-44d5-a84e-53b49e0fa82c",
   "metadata": {},
   "outputs": [
    {
     "data": {
      "text/plain": [
       "<torch._C.Generator at 0x7f5bccc5f730>"
      ]
     },
     "execution_count": 2,
     "metadata": {},
     "output_type": "execute_result"
    }
   ],
   "source": [
    "torch.manual_seed(0)"
   ]
  },
  {
   "cell_type": "code",
   "execution_count": 3,
   "id": "ac01b2fa-a94b-4fe2-8bb0-0868da0413df",
   "metadata": {},
   "outputs": [],
   "source": [
    "def make_epi(num_bins=1000):\n",
    "    num_genes = num_bins//50\n",
    "    num_promoters = num_bins//50\n",
    "    \n",
    "    dnase_seq = torch.zeros(num_bins)\n",
    "    \n",
    "    rand_indices = torch.randperm(num_bins)\n",
    "    gene_indices = rand_indices[:num_genes]\n",
    "    promoter_indices = rand_indices[-num_promoters:]\n",
    "    all_indices = torch.cat([gene_indices, promoter_indices])\n",
    "\n",
    "    \n",
    "    while torch.min(all_indices) <= 5 or torch.max(all_indices) >= num_bins-5:\n",
    "        rand_indices = torch.randperm(num_bins)\n",
    "        gene_indices = rand_indices[:num_genes]\n",
    "        promoter_indices = rand_indices[-num_promoters:]\n",
    "        all_indices = torch.cat([gene_indices, promoter_indices])\n",
    "    \n",
    "    dnase_seq[gene_indices] = 1\n",
    "    dnase_seq[promoter_indices] = 1\n",
    "    \n",
    "    for idx in gene_indices:\n",
    "        dnase_seq[idx-2:idx+3] += (2 * torch.rand(1))**2 * torch.rand(5)\n",
    "    \n",
    "    for idx in promoter_indices:\n",
    "        dnase_seq[idx-2:idx+3] += (2 * torch.rand(1))**2 * torch.rand(5)\n",
    "\n",
    "    dnase_seq = F.conv1d(dnase_seq.unsqueeze(0), torch.ones(1,1,5)/5, padding=2).squeeze()\n",
    "    \n",
    "    dnase_seq += 0.5 * torch.rand_like(dnase_seq) * (torch.rand_like(dnase_seq) > 0.9).float()\n",
    "\n",
    "    return dnase_seq, gene_indices, promoter_indices, num_genes, num_promoters"
   ]
  },
  {
   "cell_type": "code",
   "execution_count": 4,
   "id": "d3eb2ced-3e4f-4fd8-9d3f-c8fcd1c7d15b",
   "metadata": {},
   "outputs": [],
   "source": [
    "def make_graph(dnase_seq, gene_indices, promoter_indices, num_genes, num_promoters):\n",
    "    edges = []\n",
    "    for g in gene_indices:\n",
    "        promoters = random.sample([*promoter_indices], 3)\n",
    "        for p in promoters:\n",
    "            # edges.append([g,p])\n",
    "            edges.append([p,g])\n",
    "    edges = torch.tensor(edges).T\n",
    "    edge_attr = torch.tensor([[0,1] for _ in range(len(gene_indices))])\n",
    "    return edges, edge_attr"
   ]
  },
  {
   "cell_type": "code",
   "execution_count": 5,
   "id": "d126fd3b-e3fd-449c-9e4d-84a38d574fe5",
   "metadata": {},
   "outputs": [],
   "source": [
    "def make_cage(dnase_seq, gene_indices, promoter_indices, num_genes, edges):\n",
    "    cage_seq = torch.zeros_like(dnase_seq)\n",
    "    for offset in range(-5, 6):\n",
    "        for e in edges.T:\n",
    "            cage_seq[e[1]+offset] += dnase_seq[e[0]+offset]\n",
    "    cage_seq += 0.15 * cage_seq.max() * torch.rand_like(cage_seq) * (torch.rand_like(cage_seq) > 0.9).float()\n",
    "    return cage_seq"
   ]
  },
  {
   "cell_type": "code",
   "execution_count": 6,
   "id": "d0055e4a-6a23-4811-9f74-36b01dfb7eb6",
   "metadata": {},
   "outputs": [],
   "source": [
    "dnase_seq, gene_indices, promoter_indices, num_genes, num_promoters = make_epi()\n",
    "edges, edge_attr = make_graph(dnase_seq, gene_indices, promoter_indices, num_genes, num_promoters)\n",
    "cage_seq = make_cage(dnase_seq, gene_indices, promoter_indices, num_genes, edges)"
   ]
  },
  {
   "cell_type": "code",
   "execution_count": 7,
   "id": "3db71911-b002-458e-bfac-d8b035310341",
   "metadata": {},
   "outputs": [],
   "source": [
    "for i in range(1,21):\n",
    "    dnase_seq, gene_indices, promoter_indices, num_genes, num_promoters = make_epi()\n",
    "    edges, edge_attr = make_graph(dnase_seq, gene_indices, promoter_indices, num_genes, num_promoters)\n",
    "    cage_seq = make_cage(dnase_seq, gene_indices, promoter_indices, num_genes, edges)\n",
    "    \n",
    "    torch.save({'dnase_seq': dnase_seq,\n",
    "               'gene_indices': gene_indices,\n",
    "               'promoter_indices': promoter_indices,\n",
    "               'num_genes': num_genes,\n",
    "               'num_promoters': num_promoters,\n",
    "               'edges': edges,\n",
    "               'edge_attr': edge_attr,\n",
    "               'cage_seq': cage_seq},\n",
    "              f'../data/train_data/chromosome_{i}.pt')\n",
    "    \n",
    "for i in range(1, 6):\n",
    "    dnase_seq, gene_indices, promoter_indices, num_genes, num_promoters = make_epi()\n",
    "    edges, edge_attr = make_graph(dnase_seq, gene_indices, promoter_indices, num_genes, num_promoters)\n",
    "    cage_seq = make_cage(dnase_seq, gene_indices, promoter_indices, num_genes, edges)\n",
    "    \n",
    "    torch.save({'dnase_seq': dnase_seq,\n",
    "               'gene_indices': gene_indices,\n",
    "               'promoter_indices': promoter_indices,\n",
    "               'num_genes': num_genes,\n",
    "               'num_promoters': num_promoters,\n",
    "               'edges': edges,\n",
    "               'edge_attr': edge_attr,\n",
    "               'cage_seq': cage_seq},\n",
    "              f'../data/val_data/chromosome_{i}.pt')\n",
    "\n",
    "for i in range(1, 6):\n",
    "    dnase_seq, gene_indices, promoter_indices, num_genes, num_promoters = make_epi()\n",
    "    edges, edge_attr = make_graph(dnase_seq, gene_indices, promoter_indices, num_genes, num_promoters)\n",
    "    cage_seq = make_cage(dnase_seq, gene_indices, promoter_indices, num_genes, edges)\n",
    "    \n",
    "    torch.save({'dnase_seq': dnase_seq,\n",
    "               'gene_indices': gene_indices,\n",
    "               'promoter_indices': promoter_indices,\n",
    "               'num_genes': num_genes,\n",
    "               'num_promoters': num_promoters,\n",
    "               'edges': edges,\n",
    "               'edge_attr': edge_attr,\n",
    "               'cage_seq': cage_seq},\n",
    "              f'../data/test_data/chromosome_{i}.pt')"
   ]
  }
 ],
 "metadata": {
  "kernelspec": {
   "display_name": "Python 3 (ipykernel)",
   "language": "python",
   "name": "python3"
  },
  "language_info": {
   "codemirror_mode": {
    "name": "ipython",
    "version": 3
   },
   "file_extension": ".py",
   "mimetype": "text/x-python",
   "name": "python",
   "nbconvert_exporter": "python",
   "pygments_lexer": "ipython3",
   "version": "3.12.2"
  }
 },
 "nbformat": 4,
 "nbformat_minor": 5
}
